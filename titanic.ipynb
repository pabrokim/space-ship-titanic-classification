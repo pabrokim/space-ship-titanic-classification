{
 "cells": [
  {
   "cell_type": "code",
   "execution_count": 34,
   "metadata": {},
   "outputs": [],
   "source": [
    "#import libraries\n",
    "import pandas as pd\n",
    "import matplotlib.pyplot as plt\n",
    "import seaborn as sns\n",
    "import numpy as np\n",
    "from sklearn.linear_model import LogisticRegression\n",
    "from sklearn.tree import DecisionTreeClassifier, plot_tree\n",
    "from sklearn.metrics import accuracy_score\n",
    "from sklearn.preprocessing import OrdinalEncoder, StandardScaler, OneHotEncoder\n",
    "from sklearn.model_selection import cross_val_score, train_test_split\n",
    "from sklearn.pipeline import make_pipeline\n",
    "from sklearn.compose import ColumnTransformer\n",
    "from sklearn.impute import SimpleImputer, KNNImputer\n",
    "from sklearn.ensemble import RandomForestClassifier, GradientBoostingClassifier\n"
   ]
  },
  {
   "cell_type": "code",
   "execution_count": 35,
   "metadata": {},
   "outputs": [],
   "source": [
    "def wrangle(csv_file):\n",
    "\n",
    "    #read file\n",
    "    df = pd.read_csv(csv_file)\n",
    "\n",
    "    \n",
    "    #leaky columns\n",
    "    cols_to_drop = []\n",
    "\n",
    "    #recast target\n",
    "    df['Transported'] = df['Transported'].astype(int)\n",
    "\n",
    "        \n",
    "    #high cardinality features   \n",
    "    cols_to_drop.extend(['PassengerId', 'Name', 'Cabin'])\n",
    "      \n",
    "\n",
    "    #drop columns\n",
    "    df.drop(columns=cols_to_drop, inplace=True)\n",
    "    df.dropna(inplace=True)\n",
    "\n",
    "    return df"
   ]
  },
  {
   "cell_type": "code",
   "execution_count": 36,
   "metadata": {},
   "outputs": [
    {
     "data": {
      "text/html": [
       "<div>\n",
       "<style scoped>\n",
       "    .dataframe tbody tr th:only-of-type {\n",
       "        vertical-align: middle;\n",
       "    }\n",
       "\n",
       "    .dataframe tbody tr th {\n",
       "        vertical-align: top;\n",
       "    }\n",
       "\n",
       "    .dataframe thead th {\n",
       "        text-align: right;\n",
       "    }\n",
       "</style>\n",
       "<table border=\"1\" class=\"dataframe\">\n",
       "  <thead>\n",
       "    <tr style=\"text-align: right;\">\n",
       "      <th></th>\n",
       "      <th>HomePlanet</th>\n",
       "      <th>CryoSleep</th>\n",
       "      <th>Destination</th>\n",
       "      <th>Age</th>\n",
       "      <th>VIP</th>\n",
       "      <th>RoomService</th>\n",
       "      <th>FoodCourt</th>\n",
       "      <th>ShoppingMall</th>\n",
       "      <th>Spa</th>\n",
       "      <th>VRDeck</th>\n",
       "      <th>Transported</th>\n",
       "    </tr>\n",
       "  </thead>\n",
       "  <tbody>\n",
       "    <tr>\n",
       "      <th>0</th>\n",
       "      <td>Europa</td>\n",
       "      <td>False</td>\n",
       "      <td>TRAPPIST-1e</td>\n",
       "      <td>39.0</td>\n",
       "      <td>False</td>\n",
       "      <td>0.0</td>\n",
       "      <td>0.0</td>\n",
       "      <td>0.0</td>\n",
       "      <td>0.0</td>\n",
       "      <td>0.0</td>\n",
       "      <td>0</td>\n",
       "    </tr>\n",
       "    <tr>\n",
       "      <th>1</th>\n",
       "      <td>Earth</td>\n",
       "      <td>False</td>\n",
       "      <td>TRAPPIST-1e</td>\n",
       "      <td>24.0</td>\n",
       "      <td>False</td>\n",
       "      <td>109.0</td>\n",
       "      <td>9.0</td>\n",
       "      <td>25.0</td>\n",
       "      <td>549.0</td>\n",
       "      <td>44.0</td>\n",
       "      <td>1</td>\n",
       "    </tr>\n",
       "    <tr>\n",
       "      <th>2</th>\n",
       "      <td>Europa</td>\n",
       "      <td>False</td>\n",
       "      <td>TRAPPIST-1e</td>\n",
       "      <td>58.0</td>\n",
       "      <td>True</td>\n",
       "      <td>43.0</td>\n",
       "      <td>3576.0</td>\n",
       "      <td>0.0</td>\n",
       "      <td>6715.0</td>\n",
       "      <td>49.0</td>\n",
       "      <td>0</td>\n",
       "    </tr>\n",
       "    <tr>\n",
       "      <th>3</th>\n",
       "      <td>Europa</td>\n",
       "      <td>False</td>\n",
       "      <td>TRAPPIST-1e</td>\n",
       "      <td>33.0</td>\n",
       "      <td>False</td>\n",
       "      <td>0.0</td>\n",
       "      <td>1283.0</td>\n",
       "      <td>371.0</td>\n",
       "      <td>3329.0</td>\n",
       "      <td>193.0</td>\n",
       "      <td>0</td>\n",
       "    </tr>\n",
       "    <tr>\n",
       "      <th>4</th>\n",
       "      <td>Earth</td>\n",
       "      <td>False</td>\n",
       "      <td>TRAPPIST-1e</td>\n",
       "      <td>16.0</td>\n",
       "      <td>False</td>\n",
       "      <td>303.0</td>\n",
       "      <td>70.0</td>\n",
       "      <td>151.0</td>\n",
       "      <td>565.0</td>\n",
       "      <td>2.0</td>\n",
       "      <td>1</td>\n",
       "    </tr>\n",
       "  </tbody>\n",
       "</table>\n",
       "</div>"
      ],
      "text/plain": [
       "  HomePlanet CryoSleep  Destination   Age    VIP  RoomService  FoodCourt  \\\n",
       "0     Europa     False  TRAPPIST-1e  39.0  False          0.0        0.0   \n",
       "1      Earth     False  TRAPPIST-1e  24.0  False        109.0        9.0   \n",
       "2     Europa     False  TRAPPIST-1e  58.0   True         43.0     3576.0   \n",
       "3     Europa     False  TRAPPIST-1e  33.0  False          0.0     1283.0   \n",
       "4      Earth     False  TRAPPIST-1e  16.0  False        303.0       70.0   \n",
       "\n",
       "   ShoppingMall     Spa  VRDeck  Transported  \n",
       "0           0.0     0.0     0.0            0  \n",
       "1          25.0   549.0    44.0            1  \n",
       "2           0.0  6715.0    49.0            0  \n",
       "3         371.0  3329.0   193.0            0  \n",
       "4         151.0   565.0     2.0            1  "
      ]
     },
     "execution_count": 36,
     "metadata": {},
     "output_type": "execute_result"
    }
   ],
   "source": [
    "#read csv and check first rows\n",
    "df = wrangle('train.csv')\n",
    "df.head()"
   ]
  },
  {
   "cell_type": "code",
   "execution_count": null,
   "metadata": {},
   "outputs": [],
   "source": []
  },
  {
   "cell_type": "code",
   "execution_count": 37,
   "metadata": {},
   "outputs": [
    {
     "name": "stdout",
     "output_type": "stream",
     "text": [
      "<class 'pandas.core.frame.DataFrame'>\n",
      "Index: 6923 entries, 0 to 8692\n",
      "Data columns (total 11 columns):\n",
      " #   Column        Non-Null Count  Dtype  \n",
      "---  ------        --------------  -----  \n",
      " 0   HomePlanet    6923 non-null   object \n",
      " 1   CryoSleep     6923 non-null   object \n",
      " 2   Destination   6923 non-null   object \n",
      " 3   Age           6923 non-null   float64\n",
      " 4   VIP           6923 non-null   object \n",
      " 5   RoomService   6923 non-null   float64\n",
      " 6   FoodCourt     6923 non-null   float64\n",
      " 7   ShoppingMall  6923 non-null   float64\n",
      " 8   Spa           6923 non-null   float64\n",
      " 9   VRDeck        6923 non-null   float64\n",
      " 10  Transported   6923 non-null   int64  \n",
      "dtypes: float64(6), int64(1), object(4)\n",
      "memory usage: 649.0+ KB\n"
     ]
    }
   ],
   "source": [
    "#get information\n",
    "df.info()"
   ]
  },
  {
   "cell_type": "code",
   "execution_count": 38,
   "metadata": {},
   "outputs": [
    {
     "name": "stdout",
     "output_type": "stream",
     "text": [
      "HomePlanet     3\n",
      "CryoSleep      2\n",
      "Destination    3\n",
      "VIP            2\n",
      "dtype: int64\n",
      "*****************\n"
     ]
    }
   ],
   "source": [
    "cat = df.select_dtypes('object').columns\n",
    "\n",
    "print(df[cat].nunique())\n",
    "print(\"*****************\")"
   ]
  },
  {
   "cell_type": "code",
   "execution_count": 39,
   "metadata": {},
   "outputs": [
    {
     "data": {
      "text/plain": [
       "0    0\n",
       "1    1\n",
       "2    0\n",
       "3    0\n",
       "4    1\n",
       "Name: Transported, dtype: int64"
      ]
     },
     "execution_count": 39,
     "metadata": {},
     "output_type": "execute_result"
    }
   ],
   "source": [
    "df['Transported'].astype(int).head()"
   ]
  },
  {
   "cell_type": "code",
   "execution_count": 40,
   "metadata": {},
   "outputs": [
    {
     "data": {
      "image/png": "[encoded data removed]",
      "text/plain": [
       "<Figure size 640x480 with 2 Axes>"
      ]
     },
     "metadata": {},
     "output_type": "display_data"
    }
   ],
   "source": [
    "#get correlation of numerical features\n",
    "num_corr = df.select_dtypes('float').corr()\n",
    "sns.heatmap(num_corr, annot=True, cmap='coolwarm', fmt='.2f')\n",
    "plt.title('Heatmap Showing Correlation Coefficients');\n"
   ]
  },
  {
   "cell_type": "code",
   "execution_count": 41,
   "metadata": {},
   "outputs": [
    {
     "data": {
      "text/html": [
       "<div>\n",
       "<style scoped>\n",
       "    .dataframe tbody tr th:only-of-type {\n",
       "        vertical-align: middle;\n",
       "    }\n",
       "\n",
       "    .dataframe tbody tr th {\n",
       "        vertical-align: top;\n",
       "    }\n",
       "\n",
       "    .dataframe thead th {\n",
       "        text-align: right;\n",
       "    }\n",
       "</style>\n",
       "<table border=\"1\" class=\"dataframe\">\n",
       "  <thead>\n",
       "    <tr style=\"text-align: right;\">\n",
       "      <th></th>\n",
       "      <th>Age</th>\n",
       "      <th>RoomService</th>\n",
       "      <th>FoodCourt</th>\n",
       "      <th>ShoppingMall</th>\n",
       "      <th>Spa</th>\n",
       "      <th>VRDeck</th>\n",
       "    </tr>\n",
       "  </thead>\n",
       "  <tbody>\n",
       "    <tr>\n",
       "      <th>count</th>\n",
       "      <td>6923.000000</td>\n",
       "      <td>6923.000000</td>\n",
       "      <td>6923.000000</td>\n",
       "      <td>6923.000000</td>\n",
       "      <td>6923.000000</td>\n",
       "      <td>6923.000000</td>\n",
       "    </tr>\n",
       "    <tr>\n",
       "      <th>mean</th>\n",
       "      <td>28.891665</td>\n",
       "      <td>226.079590</td>\n",
       "      <td>480.432760</td>\n",
       "      <td>179.328037</td>\n",
       "      <td>318.185035</td>\n",
       "      <td>303.768309</td>\n",
       "    </tr>\n",
       "    <tr>\n",
       "      <th>std</th>\n",
       "      <td>14.514540</td>\n",
       "      <td>673.908258</td>\n",
       "      <td>1672.766209</td>\n",
       "      <td>633.614987</td>\n",
       "      <td>1159.247480</td>\n",
       "      <td>1125.448364</td>\n",
       "    </tr>\n",
       "    <tr>\n",
       "      <th>min</th>\n",
       "      <td>0.000000</td>\n",
       "      <td>0.000000</td>\n",
       "      <td>0.000000</td>\n",
       "      <td>0.000000</td>\n",
       "      <td>0.000000</td>\n",
       "      <td>0.000000</td>\n",
       "    </tr>\n",
       "    <tr>\n",
       "      <th>25%</th>\n",
       "      <td>19.000000</td>\n",
       "      <td>0.000000</td>\n",
       "      <td>0.000000</td>\n",
       "      <td>0.000000</td>\n",
       "      <td>0.000000</td>\n",
       "      <td>0.000000</td>\n",
       "    </tr>\n",
       "    <tr>\n",
       "      <th>50%</th>\n",
       "      <td>27.000000</td>\n",
       "      <td>0.000000</td>\n",
       "      <td>0.000000</td>\n",
       "      <td>0.000000</td>\n",
       "      <td>0.000000</td>\n",
       "      <td>0.000000</td>\n",
       "    </tr>\n",
       "    <tr>\n",
       "      <th>75%</th>\n",
       "      <td>38.000000</td>\n",
       "      <td>49.000000</td>\n",
       "      <td>81.500000</td>\n",
       "      <td>29.000000</td>\n",
       "      <td>65.500000</td>\n",
       "      <td>51.000000</td>\n",
       "    </tr>\n",
       "    <tr>\n",
       "      <th>max</th>\n",
       "      <td>79.000000</td>\n",
       "      <td>14327.000000</td>\n",
       "      <td>29813.000000</td>\n",
       "      <td>23492.000000</td>\n",
       "      <td>22408.000000</td>\n",
       "      <td>20336.000000</td>\n",
       "    </tr>\n",
       "  </tbody>\n",
       "</table>\n",
       "</div>"
      ],
      "text/plain": [
       "               Age   RoomService     FoodCourt  ShoppingMall           Spa  \\\n",
       "count  6923.000000   6923.000000   6923.000000   6923.000000   6923.000000   \n",
       "mean     28.891665    226.079590    480.432760    179.328037    318.185035   \n",
       "std      14.514540    673.908258   1672.766209    633.614987   1159.247480   \n",
       "min       0.000000      0.000000      0.000000      0.000000      0.000000   \n",
       "25%      19.000000      0.000000      0.000000      0.000000      0.000000   \n",
       "50%      27.000000      0.000000      0.000000      0.000000      0.000000   \n",
       "75%      38.000000     49.000000     81.500000     29.000000     65.500000   \n",
       "max      79.000000  14327.000000  29813.000000  23492.000000  22408.000000   \n",
       "\n",
       "             VRDeck  \n",
       "count   6923.000000  \n",
       "mean     303.768309  \n",
       "std     1125.448364  \n",
       "min        0.000000  \n",
       "25%        0.000000  \n",
       "50%        0.000000  \n",
       "75%       51.000000  \n",
       "max    20336.000000  "
      ]
     },
     "execution_count": 41,
     "metadata": {},
     "output_type": "execute_result"
    }
   ],
   "source": [
    "#describe\n",
    "num_feat = df.select_dtypes('float').describe()\n",
    "num_feat"
   ]
  },
  {
   "cell_type": "code",
   "execution_count": 42,
   "metadata": {},
   "outputs": [
    {
     "data": {
      "image/png": "[encoded data removed]",
      "text/plain": [
       "<Figure size 640x480 with 1 Axes>"
      ]
     },
     "metadata": {},
     "output_type": "display_data"
    },
    {
     "name": "stdout",
     "output_type": "stream",
     "text": [
      "888888888888888\n"
     ]
    },
    {
     "data": {
      "image/png": "[encoded data removed]",
      "text/plain": [
       "<Figure size 640x480 with 1 Axes>"
      ]
     },
     "metadata": {},
     "output_type": "display_data"
    },
    {
     "name": "stdout",
     "output_type": "stream",
     "text": [
      "888888888888888\n"
     ]
    },
    {
     "data": {
      "image/png": "[encoded data removed]",
      "text/plain": [
       "<Figure size 640x480 with 1 Axes>"
      ]
     },
     "metadata": {},
     "output_type": "display_data"
    },
    {
     "name": "stdout",
     "output_type": "stream",
     "text": [
      "888888888888888\n"
     ]
    },
    {
     "data": {
      "image/png": "[encoded data removed]",
      "text/plain": [
       "<Figure size 640x480 with 1 Axes>"
      ]
     },
     "metadata": {},
     "output_type": "display_data"
    },
    {
     "name": "stdout",
     "output_type": "stream",
     "text": [
      "888888888888888\n"
     ]
    },
    {
     "data": {
      "image/png": "[encoded data removed]",
      "text/plain": [
       "<Figure size 640x480 with 1 Axes>"
      ]
     },
     "metadata": {},
     "output_type": "display_data"
    },
    {
     "name": "stdout",
     "output_type": "stream",
     "text": [
      "888888888888888\n"
     ]
    },
    {
     "data": {
      "image/png": "[encoded data removed]",
      "text/plain": [
       "<Figure size 640x480 with 1 Axes>"
      ]
     },
     "metadata": {},
     "output_type": "display_data"
    },
    {
     "name": "stdout",
     "output_type": "stream",
     "text": [
      "888888888888888\n"
     ]
    }
   ],
   "source": [
    "#plot boxplots\n",
    "for col in num_feat.columns:\n",
    "    col_plot = df[col]\n",
    "    sns.boxplot(col_plot, orient='h')\n",
    "    plt.title(f'Boxplot of {col}')\n",
    "    plt.show()\n",
    "    print('888888888888888')"
   ]
  },
  {
   "cell_type": "code",
   "execution_count": 43,
   "metadata": {},
   "outputs": [
    {
     "data": {
      "image/png": "[encoded data removed]",
      "text/plain": [
       "<Figure size 640x480 with 1 Axes>"
      ]
     },
     "metadata": {},
     "output_type": "display_data"
    }
   ],
   "source": [
    "#check class balance\n",
    "df['Transported'].value_counts(normalize=True).plot(kind='bar')\n",
    "plt.xlabel('Classes')\n",
    "plt.ylabel('Frequency of Each Class')\n",
    "plt.title('Class Balance');"
   ]
  },
  {
   "cell_type": "code",
   "execution_count": 44,
   "metadata": {},
   "outputs": [
    {
     "name": "stdout",
     "output_type": "stream",
     "text": [
      "DF Shape (6923, 11)\n",
      "X shape (6923, 10)\n",
      "Y (6923,)\n"
     ]
    }
   ],
   "source": [
    "#get features and target\n",
    "target = 'Transported'\n",
    "X = df.drop(columns=target)\n",
    "y = df[target]\n",
    "print('DF Shape', df.shape)\n",
    "print('X shape',X.shape)\n",
    "print('Y', y.shape)"
   ]
  },
  {
   "cell_type": "code",
   "execution_count": 45,
   "metadata": {},
   "outputs": [
    {
     "name": "stdout",
     "output_type": "stream",
     "text": [
      "X_train (5538, 10)\n",
      "X_test (1385, 10)\n",
      "y_train (5538,)\n",
      "y_test (1385,)\n"
     ]
    }
   ],
   "source": [
    "X_train, X_test, y_train, y_test = train_test_split(X, y, test_size = 0.2, random_state=42)\n",
    "\n",
    "print('X_train', X_train.shape)\n",
    "print('X_test', X_test.shape)\n",
    "print('y_train', y_train.shape)\n",
    "print('y_test', y_test.shape)\n"
   ]
  },
  {
   "cell_type": "code",
   "execution_count": 46,
   "metadata": {},
   "outputs": [],
   "source": [
    "cat_feat = X.select_dtypes('float').columns\n",
    "num_feat = X.select_dtypes('float').columns\n"
   ]
  },
  {
   "cell_type": "code",
   "execution_count": 47,
   "metadata": {},
   "outputs": [
    {
     "name": "stdout",
     "output_type": "stream",
     "text": [
      "Baseline accuracy: 0.5031055900621118\n"
     ]
    }
   ],
   "source": [
    "baseline_score = y.value_counts(normalize=True).max()\n",
    "print('Baseline accuracy:', baseline_score)\n"
   ]
  },
  {
   "cell_type": "code",
   "execution_count": 48,
   "metadata": {},
   "outputs": [],
   "source": [
    "#compare scores\n",
    "model_names = []\n",
    "final_train_acc = []\n",
    "final_test_acc = []\n",
    "final_cv = []"
   ]
  },
  {
   "cell_type": "code",
   "execution_count": 68,
   "metadata": {},
   "outputs": [],
   "source": [
    "preprocessor = ColumnTransformer([\n",
    "    ('cat', make_pipeline(SimpleImputer(strategy='most_frequent'), OneHotEncoder(handle_unknown='ignore')), cat_feat),\n",
    "    ('num', make_pipeline(SimpleImputer(strategy='mean'), StandardScaler()), num_feat)\n",
    "])"
   ]
  },
  {
   "cell_type": "code",
   "execution_count": 50,
   "metadata": {},
   "outputs": [],
   "source": [
    "#make pipeline\n",
    "model_log = make_pipeline(\n",
    "    preprocessor,\n",
    "    LogisticRegression(max_iter=1000)\n",
    ")\n",
    "\n",
    "#model name from pipeline\n",
    "model_log_name = model_log.steps[-1][0]\n",
    "model_names.append(model_log_name)\n",
    "\n",
    "#fit model\n",
    "model_log.fit(X_train, y_train)\n",
    "\n",
    "#train model\n",
    "y_pred_train_log = model_log.predict(X_train)\n",
    "\n",
    "#train accuracy\n",
    "acc_train_log = accuracy_score(y_train, y_pred_train_log)\n",
    "final_train_acc.append(acc_train_log)\n",
    "\n",
    "#predict on test set\n",
    "y_pred_test_log = model_log.predict(X_test)\n",
    "\n",
    "#test accuracy\n",
    "acc_test_log = accuracy_score(y_test, y_pred_test_log)\n",
    "final_test_acc.append(acc_test_log)\n",
    "\n",
    "#cross validation\n",
    "cv_scores_log = cross_val_score(model_log, X, y, cv=5, scoring='accuracy')\n",
    "final_cv.append(round(cv_scores_log.mean(),2))"
   ]
  },
  {
   "cell_type": "code",
   "execution_count": 51,
   "metadata": {},
   "outputs": [
    {
     "name": "stdout",
     "output_type": "stream",
     "text": [
      "0.7054151624548737\n",
      "0.6988301579683228\n"
     ]
    }
   ],
   "source": [
    "from sklearn.neighbors import KNeighborsClassifier\n",
    "\n",
    "\n",
    "# Create a pipeline with KNN instead of Logistic Regression\n",
    "model_knn = make_pipeline(\n",
    "    preprocessor,\n",
    "    KNeighborsClassifier(n_neighbors=5)  # You can change n_neighbors as needed\n",
    ")\n",
    "\n",
    "# Model name from pipeline\n",
    "model_knn_name = model_knn.steps[-1][0]\n",
    "model_names.append(model_knn_name)\n",
    "\n",
    "# Fit model\n",
    "model_knn.fit(X_train, y_train)\n",
    "\n",
    "# Predict on train set\n",
    "y_pred_train_knn = model_knn.predict(X_train)\n",
    "\n",
    "# Train accuracy\n",
    "acc_train_knn = accuracy_score(y_train, y_pred_train_knn)\n",
    "final_train_acc.append(acc_train_knn)\n",
    "\n",
    "# Predict on test set\n",
    "y_pred_test_knn = model_knn.predict(X_test)\n",
    "\n",
    "# Test accuracy\n",
    "acc_test_knn = accuracy_score(y_test, y_pred_test_knn)\n",
    "final_test_acc.append(acc_test_knn)\n",
    "print(acc_test_knn)\n",
    "# Cross-validation\n",
    "cv_scores_knn = cross_val_score(model_knn, X, y, cv=5, scoring='accuracy')\n",
    "final_cv.append(round(cv_scores_knn.mean(), 2))\n",
    "print(cv_scores_knn.mean())"
   ]
  },
  {
   "cell_type": "code",
   "execution_count": 52,
   "metadata": {},
   "outputs": [],
   "source": [
    "#make pipeline for decision tree\n",
    "model_tr = make_pipeline(\n",
    "    preprocessor,\n",
    "    DecisionTreeClassifier(max_depth= 5, random_state=42)\n",
    ")\n",
    "\n",
    "#model name from pipeline\n",
    "model_tr_name = model_tr.steps[-1][0]\n",
    "model_names.append(model_tr_name)\n",
    "\n",
    "#fit model\n",
    "model_tr.fit(X_train, y_train)\n",
    "\n",
    "#train model\n",
    "y_pred_train_tr = model_tr.predict(X_train)\n",
    "\n",
    "#train accuracy\n",
    "acc_train_tr = accuracy_score(y_train, y_pred_train_tr)\n",
    "final_train_acc.append(acc_train_tr)\n",
    "\n",
    "#predict on test set\n",
    "y_pred_test_tr = model_tr.predict(X_test)\n",
    "\n",
    "#test accuracy\n",
    "acc_test_tr = accuracy_score(y_test, y_pred_test_tr)\n",
    "final_test_acc.append(acc_test_tr)\n",
    "\n",
    "#cross validation\n",
    "cv_scores_tr = cross_val_score(model_tr, X, y, cv=5, scoring='accuracy')\n",
    "final_cv.append(round(cv_scores_tr.mean(),2))"
   ]
  },
  {
   "cell_type": "code",
   "execution_count": 53,
   "metadata": {},
   "outputs": [
    {
     "data": {
      "text/plain": [
       "5"
      ]
     },
     "execution_count": 53,
     "metadata": {},
     "output_type": "execute_result"
    }
   ],
   "source": [
    "#tree depth\n",
    "depth = model_tr.named_steps['decisiontreeclassifier'].get_depth()\n",
    "depth"
   ]
  },
  {
   "cell_type": "code",
   "execution_count": 54,
   "metadata": {},
   "outputs": [],
   "source": [
    "\n",
    "#store acc scores\n",
    "depths = []\n",
    "training_accuracy = []\n",
    "test_accuracy = []\n",
    "gaps = []\n",
    "\n",
    "#tune model\n",
    "params = range(1, 101, 2)\n",
    "for d in params:\n",
    "    depths.append(d)\n",
    "    model_tr = make_pipeline(\n",
    "    preprocessor,\n",
    "    DecisionTreeClassifier(max_depth= d, random_state=42)\n",
    "    )\n",
    "\n",
    "    #fit model\n",
    "    model_tr.fit(X_train, y_train)\n",
    "\n",
    "    #train model\n",
    "    y_pred_train = model_tr.predict(X_train)\n",
    "\n",
    "    #train accuracy\n",
    "    acc_train = accuracy_score(y_train, y_pred_train)\n",
    "\n",
    "    #append training score\n",
    "    training_accuracy.append(acc_train)\n",
    "\n",
    "    #predict on test set\n",
    "    y_pred_test = model_tr.predict(X_test)\n",
    "\n",
    "    #test accuracy\n",
    "    acc_test = accuracy_score(y_test, y_pred_test)\n",
    "\n",
    "    #append test scores\n",
    "    test_accuracy.append(acc_test)\n",
    "\n",
    "    #gap\n",
    "    gap = (acc_train - acc_test)\n",
    "    gaps.append(gap)\n",
    "\n"
   ]
  },
  {
   "cell_type": "code",
   "execution_count": 55,
   "metadata": {},
   "outputs": [
    {
     "data": {
      "text/html": [
       "<div>\n",
       "<style scoped>\n",
       "    .dataframe tbody tr th:only-of-type {\n",
       "        vertical-align: middle;\n",
       "    }\n",
       "\n",
       "    .dataframe tbody tr th {\n",
       "        vertical-align: top;\n",
       "    }\n",
       "\n",
       "    .dataframe thead th {\n",
       "        text-align: right;\n",
       "    }\n",
       "</style>\n",
       "<table border=\"1\" class=\"dataframe\">\n",
       "  <thead>\n",
       "    <tr style=\"text-align: right;\">\n",
       "      <th></th>\n",
       "      <th>depths</th>\n",
       "      <th>train_acc</th>\n",
       "      <th>test_acc</th>\n",
       "      <th>gap</th>\n",
       "    </tr>\n",
       "  </thead>\n",
       "  <tbody>\n",
       "    <tr>\n",
       "      <th>0</th>\n",
       "      <td>1</td>\n",
       "      <td>0.668292</td>\n",
       "      <td>0.674368</td>\n",
       "      <td>-0.006076</td>\n",
       "    </tr>\n",
       "    <tr>\n",
       "      <th>1</th>\n",
       "      <td>3</td>\n",
       "      <td>0.776273</td>\n",
       "      <td>0.776173</td>\n",
       "      <td>0.000100</td>\n",
       "    </tr>\n",
       "    <tr>\n",
       "      <th>2</th>\n",
       "      <td>5</td>\n",
       "      <td>0.793788</td>\n",
       "      <td>0.792058</td>\n",
       "      <td>0.001731</td>\n",
       "    </tr>\n",
       "    <tr>\n",
       "      <th>3</th>\n",
       "      <td>7</td>\n",
       "      <td>0.815457</td>\n",
       "      <td>0.790614</td>\n",
       "      <td>0.024843</td>\n",
       "    </tr>\n",
       "    <tr>\n",
       "      <th>4</th>\n",
       "      <td>9</td>\n",
       "      <td>0.837486</td>\n",
       "      <td>0.793502</td>\n",
       "      <td>0.043985</td>\n",
       "    </tr>\n",
       "    <tr>\n",
       "      <th>5</th>\n",
       "      <td>11</td>\n",
       "      <td>0.853557</td>\n",
       "      <td>0.786282</td>\n",
       "      <td>0.067276</td>\n",
       "    </tr>\n",
       "    <tr>\n",
       "      <th>6</th>\n",
       "      <td>13</td>\n",
       "      <td>0.867642</td>\n",
       "      <td>0.775451</td>\n",
       "      <td>0.092190</td>\n",
       "    </tr>\n",
       "    <tr>\n",
       "      <th>7</th>\n",
       "      <td>15</td>\n",
       "      <td>0.878476</td>\n",
       "      <td>0.783394</td>\n",
       "      <td>0.095082</td>\n",
       "    </tr>\n",
       "    <tr>\n",
       "      <th>8</th>\n",
       "      <td>17</td>\n",
       "      <td>0.886963</td>\n",
       "      <td>0.779783</td>\n",
       "      <td>0.107179</td>\n",
       "    </tr>\n",
       "    <tr>\n",
       "      <th>9</th>\n",
       "      <td>19</td>\n",
       "      <td>0.892019</td>\n",
       "      <td>0.781227</td>\n",
       "      <td>0.110791</td>\n",
       "    </tr>\n",
       "  </tbody>\n",
       "</table>\n",
       "</div>"
      ],
      "text/plain": [
       "   depths  train_acc  test_acc       gap\n",
       "0       1   0.668292  0.674368 -0.006076\n",
       "1       3   0.776273  0.776173  0.000100\n",
       "2       5   0.793788  0.792058  0.001731\n",
       "3       7   0.815457  0.790614  0.024843\n",
       "4       9   0.837486  0.793502  0.043985\n",
       "5      11   0.853557  0.786282  0.067276\n",
       "6      13   0.867642  0.775451  0.092190\n",
       "7      15   0.878476  0.783394  0.095082\n",
       "8      17   0.886963  0.779783  0.107179\n",
       "9      19   0.892019  0.781227  0.110791"
      ]
     },
     "execution_count": 55,
     "metadata": {},
     "output_type": "execute_result"
    }
   ],
   "source": [
    "#store accuracy scores in df\n",
    "accuracy_df = pd.DataFrame({\n",
    "    'depths': depths,\n",
    "    'train_acc': training_accuracy,\n",
    "    'test_acc': test_accuracy,\n",
    "    'gap': gaps\n",
    "})\n",
    "accuracy_df.head(10)"
   ]
  },
  {
   "cell_type": "code",
   "execution_count": 56,
   "metadata": {},
   "outputs": [
    {
     "data": {
      "image/png": "[encoded data removed]",
      "text/plain": [
       "<Figure size 1200x600 with 1 Axes>"
      ]
     },
     "metadata": {},
     "output_type": "display_data"
    }
   ],
   "source": [
    "#plot accuracies\n",
    "fig, ax = plt.subplots(figsize=(12,6))\n",
    "ax.plot(training_accuracy, color='red', label='training')\n",
    "ax.plot(test_accuracy, color='green', label='test')\n",
    "ax.set_xlabel('Max Depth')\n",
    "ax.set_ylabel('Accuracy Score')\n",
    "ax.legend()\n",
    "plt.show();"
   ]
  },
  {
   "cell_type": "code",
   "execution_count": 57,
   "metadata": {},
   "outputs": [],
   "source": [
    "\n",
    "#make pipeline random forest\n",
    "model_rf = make_pipeline(\n",
    "    preprocessor,\n",
    "    RandomForestClassifier(max_depth=60, n_estimators=100, random_state=42)\n",
    ")\n",
    "\n",
    "#model name from pipeline\n",
    "model_rf_name = model_rf.steps[-1][0]\n",
    "model_names.append(model_rf_name)\n",
    "\n",
    "\n",
    "#fit model\n",
    "model_rf.fit(X_train, y_train)\n",
    "\n",
    "\n",
    "#train model\n",
    "y_pred_train_rf = model_rf.predict(X_train)\n",
    "\n",
    "\n",
    "#train accuracy\n",
    "acc_train_rf = accuracy_score(y_train, y_pred_train_rf)\n",
    "final_train_acc.append(acc_train_rf)\n",
    "\n",
    "\n",
    "#predict on test set\n",
    "y_pred_test_rf = model_rf.predict(X_test)\n",
    "\n",
    "\n",
    "#test accuracy\n",
    "acc_test_rf = accuracy_score(y_test, y_pred_test_rf)\n",
    "final_test_acc.append(acc_test_rf)\n",
    "\n",
    "\n",
    "#cross validation\n",
    "cv_scores_rf = cross_val_score(model_rf, X, y, cv=5, scoring='accuracy')\n",
    "final_cv.append(round(cv_scores_rf.mean(),2))"
   ]
  },
  {
   "cell_type": "code",
   "execution_count": 58,
   "metadata": {},
   "outputs": [
    {
     "name": "stdout",
     "output_type": "stream",
     "text": [
      "Max depth: 60\n",
      "Average depth: 60.0\n"
     ]
    }
   ],
   "source": [
    "dept = [estimator.get_depth() for estimator in model_rf['randomforestclassifier'].estimators_]\n",
    "max_dept = max(dept) \n",
    "ave_dept = sum(dept)/len(dept) \n",
    "print('Max depth:', max_dept)\n",
    "print('Average depth:', ave_dept)"
   ]
  },
  {
   "cell_type": "code",
   "execution_count": 69,
   "metadata": {},
   "outputs": [],
   "source": [
    "# Gradient Boosting pipeline\n",
    "model_gb = make_pipeline(\n",
    "    preprocessor,\n",
    "    GradientBoostingClassifier(n_estimators=100, learning_rate=0.1, max_depth=3, random_state=42)\n",
    ")\n",
    "\n",
    "# model name\n",
    "model_gb_name = model_gb.steps[-1][0]\n",
    "model_names.append(model_gb_name)\n",
    "\n",
    "# fit model\n",
    "model_gb.fit(X_train, y_train)\n",
    "\n",
    "# train prediction\n",
    "y_pred_train_gb = model_gb.predict(X_train)\n",
    "acc_train_gb = accuracy_score(y_train, y_pred_train_gb)\n",
    "final_train_acc.append(acc_train_gb)\n",
    "\n",
    "\n",
    "# test prediction\n",
    "y_pred_test_gb = model_gb.predict(X_test)\n",
    "acc_test_gb = accuracy_score(y_test, y_pred_test_gb)\n",
    "final_test_acc.append(acc_test_gb)\n",
    "\n",
    "# cross-validation\n",
    "cv_scores_gb = cross_val_score(model_gb, X, y, cv=5, scoring='accuracy')\n",
    "final_cv.append(round(cv_scores_gb.mean(), 2))"
   ]
  },
  {
   "cell_type": "code",
   "execution_count": 60,
   "metadata": {},
   "outputs": [
    {
     "data": {
      "text/plain": [
       "'from sklearn.model_selection import GridSearchCV\\n\\n# Pipeline\\nmodel_gb = make_pipeline(\\n    preprocessor,\\n    #GradientBoostingClassifier(random_state=42)\\n)\\n\\n# Hyperparameter grid\\nparam_grid = {\\n    \\'gradientboostingclassifier__n_estimators\\': [100, 150, 200],\\n    \\'gradientboostingclassifier__learning_rate\\': [0.01, 0.05, 0.1],\\n    \\'gradientboostingclassifier__max_depth\\': [3, 4, 5],\\n    \\'gradientboostingclassifier__subsample\\': [0.8, 1.0]\\n}\\n\\n# Grid search\\ngrid_search = GridSearchCV(\\n    model_gb,\\n    param_grid,\\n    cv=5,\\n    scoring=\\'accuracy\\',\\n    n_jobs=-1,\\n    verbose=1\\n)\\n\\n# Fit\\ngrid_search.fit(X_train, y_train)\\n\\n# Best estimator\\nbest_model = grid_search.best_estimator_\\nprint(\"Best Parameters:\", grid_search.best_params_)\\nprint(\"Best CV Accuracy:\", round(grid_search.best_score_, 3))\\ny_train_pred = best_model.predict(X_train)\\ny_test_pred = best_model.predict(X_test)\\n\\nacc_train_best = accuracy_score(y_train, y_train_pred)\\nacc_test_best = accuracy_score(y_test, y_test_pred)\\n\\nprint(\"Train Accuracy:\", round(acc_train_best, 3))\\nprint(\"Test Accuracy:\", round(acc_test_best, 3))'"
      ]
     },
     "execution_count": 60,
     "metadata": {},
     "output_type": "execute_result"
    }
   ],
   "source": [
    "'''from sklearn.model_selection import GridSearchCV\n",
    "\n",
    "# Pipeline\n",
    "model_gb = make_pipeline(\n",
    "    preprocessor,\n",
    "    #GradientBoostingClassifier(random_state=42)\n",
    ")\n",
    "\n",
    "# Hyperparameter grid\n",
    "param_grid = {\n",
    "    'gradientboostingclassifier__n_estimators': [100, 150, 200],\n",
    "    'gradientboostingclassifier__learning_rate': [0.01, 0.05, 0.1],\n",
    "    'gradientboostingclassifier__max_depth': [3, 4, 5],\n",
    "    'gradientboostingclassifier__subsample': [0.8, 1.0]\n",
    "}\n",
    "\n",
    "# Grid search\n",
    "grid_search = GridSearchCV(\n",
    "    model_gb,\n",
    "    param_grid,\n",
    "    cv=5,\n",
    "    scoring='accuracy',\n",
    "    n_jobs=-1,\n",
    "    verbose=1\n",
    ")\n",
    "\n",
    "# Fit\n",
    "grid_search.fit(X_train, y_train)\n",
    "\n",
    "# Best estimator\n",
    "best_model = grid_search.best_estimator_\n",
    "print(\"Best Parameters:\", grid_search.best_params_)\n",
    "print(\"Best CV Accuracy:\", round(grid_search.best_score_, 3))\n",
    "y_train_pred = best_model.predict(X_train)\n",
    "y_test_pred = best_model.predict(X_test)\n",
    "\n",
    "acc_train_best = accuracy_score(y_train, y_train_pred)\n",
    "acc_test_best = accuracy_score(y_test, y_test_pred)\n",
    "\n",
    "print(\"Train Accuracy:\", round(acc_train_best, 3))\n",
    "print(\"Test Accuracy:\", round(acc_test_best, 3))'''"
   ]
  },
  {
   "cell_type": "code",
   "execution_count": 70,
   "metadata": {},
   "outputs": [
    {
     "data": {
      "text/html": [
       "<div>\n",
       "<style scoped>\n",
       "    .dataframe tbody tr th:only-of-type {\n",
       "        vertical-align: middle;\n",
       "    }\n",
       "\n",
       "    .dataframe tbody tr th {\n",
       "        vertical-align: top;\n",
       "    }\n",
       "\n",
       "    .dataframe thead th {\n",
       "        text-align: right;\n",
       "    }\n",
       "</style>\n",
       "<table border=\"1\" class=\"dataframe\">\n",
       "  <thead>\n",
       "    <tr style=\"text-align: right;\">\n",
       "      <th></th>\n",
       "      <th>model_name</th>\n",
       "      <th>train accuracy</th>\n",
       "      <th>test accuracy</th>\n",
       "      <th>cv score</th>\n",
       "    </tr>\n",
       "  </thead>\n",
       "  <tbody>\n",
       "    <tr>\n",
       "      <th>0</th>\n",
       "      <td>logisticregression</td>\n",
       "      <td>0.856085</td>\n",
       "      <td>0.786282</td>\n",
       "      <td>0.78</td>\n",
       "    </tr>\n",
       "    <tr>\n",
       "      <th>1</th>\n",
       "      <td>kneighborsclassifier</td>\n",
       "      <td>0.760563</td>\n",
       "      <td>0.705415</td>\n",
       "      <td>0.70</td>\n",
       "    </tr>\n",
       "    <tr>\n",
       "      <th>2</th>\n",
       "      <td>decisiontreeclassifier</td>\n",
       "      <td>0.793788</td>\n",
       "      <td>0.792058</td>\n",
       "      <td>0.78</td>\n",
       "    </tr>\n",
       "    <tr>\n",
       "      <th>3</th>\n",
       "      <td>randomforestclassifier</td>\n",
       "      <td>0.884254</td>\n",
       "      <td>0.768953</td>\n",
       "      <td>0.77</td>\n",
       "    </tr>\n",
       "    <tr>\n",
       "      <th>4</th>\n",
       "      <td>gradientboostingclassifier</td>\n",
       "      <td>0.809137</td>\n",
       "      <td>0.800722</td>\n",
       "      <td>0.79</td>\n",
       "    </tr>\n",
       "  </tbody>\n",
       "</table>\n",
       "</div>"
      ],
      "text/plain": [
       "                   model_name  train accuracy  test accuracy  cv score\n",
       "0          logisticregression        0.856085       0.786282      0.78\n",
       "1        kneighborsclassifier        0.760563       0.705415      0.70\n",
       "2      decisiontreeclassifier        0.793788       0.792058      0.78\n",
       "3      randomforestclassifier        0.884254       0.768953      0.77\n",
       "4  gradientboostingclassifier        0.809137       0.800722      0.79"
      ]
     },
     "execution_count": 70,
     "metadata": {},
     "output_type": "execute_result"
    }
   ],
   "source": [
    "#compare scores in dataframe\n",
    "\n",
    "df_scores = pd.DataFrame({\n",
    "    'model_name': model_names,\n",
    "    'train accuracy':final_train_acc,\n",
    "    'test accuracy': final_test_acc,\n",
    "    'cv score': final_cv\n",
    "})\n",
    "df_scores.head()"
   ]
  },
  {
   "cell_type": "code",
   "execution_count": 71,
   "metadata": {},
   "outputs": [],
   "source": [
    "def wrangle_test(csv_file):\n",
    "\n",
    "    #read file\n",
    "    df = pd.read_csv(csv_file)\n",
    "    \n",
    "    #leaky columns\n",
    "    cols_to_drop = []\n",
    "\n",
    "    #recast target\n",
    "    #df['Transported'] = df['Transported'].astype(int)\n",
    "\n",
    "    #identify multicollinearity\n",
    "    passenger_ids = df['PassengerId'].copy()\n",
    "    \n",
    "    #high cardinality features   \n",
    "    cols_to_drop.extend(['PassengerId', 'Name', 'Cabin'])\n",
    "    \n",
    "    \n",
    "\n",
    "    #drop columns\n",
    "    df.drop(columns=cols_to_drop, inplace=True)\n",
    "\n",
    "    return df, passenger_ids "
   ]
  },
  {
   "cell_type": "code",
   "execution_count": 72,
   "metadata": {},
   "outputs": [],
   "source": [
    "#get test data\n",
    "test, passenger_ids = wrangle_test('test.csv')\n",
    "\n"
   ]
  },
  {
   "cell_type": "code",
   "execution_count": 73,
   "metadata": {},
   "outputs": [
    {
     "name": "stdout",
     "output_type": "stream",
     "text": [
      "Pipeline(steps=[('columntransformer',\n",
      "                 ColumnTransformer(transformers=[('cat',\n",
      "                                                  Pipeline(steps=[('simpleimputer',\n",
      "                                                                   SimpleImputer(strategy='most_frequent')),\n",
      "                                                                  ('onehotencoder',\n",
      "                                                                   OneHotEncoder(handle_unknown='ignore'))]),\n",
      "                                                  Index(['Age', 'RoomService', 'FoodCourt', 'ShoppingMall', 'Spa', 'VRDeck'], dtype='object')),\n",
      "                                                 ('num',\n",
      "                                                  Pipeline(steps=[('simpleimputer',\n",
      "                                                                   SimpleImputer()),\n",
      "                                                                  ('standardscaler',\n",
      "                                                                   StandardScaler())]),\n",
      "                                                  Index(['Age', 'RoomService', 'FoodCourt', 'ShoppingMall', 'Spa', 'VRDeck'], dtype='object'))])),\n",
      "                ('gradientboostingclassifier',\n",
      "                 GradientBoostingClassifier(random_state=42))])\n"
     ]
    }
   ],
   "source": [
    "print(model_gb)"
   ]
  },
  {
   "cell_type": "code",
   "execution_count": 74,
   "metadata": {},
   "outputs": [],
   "source": [
    "test_pred_gb = model_gb.predict(test)\n",
    "\n",
    "#"
   ]
  },
  {
   "cell_type": "code",
   "execution_count": 75,
   "metadata": {},
   "outputs": [],
   "source": [
    "#submission\n",
    "submission_gb = pd.DataFrame({\n",
    "    'PassengerId': passenger_ids,\n",
    "    'Transported': test_pred_gb.astype(bool)  # Ensure boolean output\n",
    "})\n",
    "\n",
    "submission_gb.to_csv('submission_gb.csv', index=False)"
   ]
  },
  {
   "cell_type": "code",
   "execution_count": 76,
   "metadata": {},
   "outputs": [
    {
     "data": {
      "text/plain": [
       "(4277, 2)"
      ]
     },
     "execution_count": 76,
     "metadata": {},
     "output_type": "execute_result"
    }
   ],
   "source": [
    "submission_gb.shape"
   ]
  }
 ],
 "metadata": {
  "kernelspec": {
   "display_name": "Python 3",
   "language": "python",
   "name": "python3"
  },
  "language_info": {
   "codemirror_mode": {
    "name": "ipython",
    "version": 3
   },
   "file_extension": ".py",
   "mimetype": "text/x-python",
   "name": "python",
   "nbconvert_exporter": "python",
   "pygments_lexer": "ipython3",
   "version": "3.10.12"
  }
 },
 "nbformat": 4,
 "nbformat_minor": 2
}
